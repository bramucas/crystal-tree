{
 "cells": [
  {
   "cell_type": "markdown",
   "metadata": {},
   "source": [
    "# Try out crystal-tree\n",
    "This notebook contains some examples on how to use crystal-tree python package for explaining Decision Trees."
   ]
  },
  {
   "cell_type": "code",
   "execution_count": 1,
   "metadata": {},
   "outputs": [],
   "source": [
    "from sklearn.datasets import load_iris\n",
    "from sklearn.tree import DecisionTreeClassifier\n",
    "\n",
    "from crystal_tree import CrystalTree, Trace"
   ]
  },
  {
   "cell_type": "markdown",
   "metadata": {},
   "source": [
    "### Default explanations\n",
    "To obtain the summarized explanations in the default way, first create a ```CrystalTree()``` object and passing your Decision Tree Classifier object as argument. A call to the method ```explain()``` will return an array of ```Explanation``` objects, just as the typical call to ```predict()``` would return an array of classifications. ```Explanation``` objects are tree-like which come with handy methods like ```ascii_tree()``` to automatically produce the text based explanation."
   ]
  },
  {
   "cell_type": "code",
   "execution_count": 2,
   "metadata": {},
   "outputs": [
    {
     "name": "stdout",
     "output_type": "stream",
     "text": [
      "  *\n",
      "  |__Predicted class 0 for instance 0\n",
      "  |  |__petal width (cm) <= 0.8\n",
      "\n",
      "  *\n",
      "  |__Predicted class 1 for instance 1\n",
      "  |  |__petal length (cm) <= 4.9\n",
      "  |  |__petal width (cm) in (0.8,1.6]\n",
      "\n"
     ]
    }
   ],
   "source": [
    "# Loads dataset\n",
    "X, y = load_iris(return_X_y=True, as_frame=True)\n",
    "\n",
    "# Trains decision tree\n",
    "clf = DecisionTreeClassifier()\n",
    "clf.fit(X,y)\n",
    "\n",
    "# Translates the classifier into an explainable logic program\n",
    "crys_tree = CrystalTree(clf)\n",
    "\n",
    "# Print explanations of input X (two arbitrary rows)\n",
    "for e in crys_tree.explain(X.iloc[[0, 54]]):\n",
    "    print(e.ascii_tree())"
   ]
  },
  {
   "cell_type": "markdown",
   "metadata": {},
   "source": [
    " #### Manipulating explanations\n",
    " Of course, one could manipulate that object to prune part of the explanation, create new brances, or even automatically translate the explanations before printing them."
   ]
  },
  {
   "cell_type": "code",
   "execution_count": 16,
   "metadata": {},
   "outputs": [
    {
     "name": "stdout",
     "output_type": "stream",
     "text": [
      "  *\n",
      "  |__Vorhergesagte Klasse 0 für Beispiel 0\n",
      "  |  |__blütenblattlänge (cm) &lt;= 2,4\n",
      "\n",
      "  *\n",
      "  |__Vorhergesagte Klasse 1 für Beispiel 1\n",
      "  |  |__blütenblattbreite (cm) &lt;= 1,6\n",
      "  |  |__blütenblattlänge (cm) in (2.4,4.9]\n",
      "\n"
     ]
    }
   ],
   "source": [
    "from translate import Translator\n",
    "\n",
    "# Loads dataset\n",
    "X, y = load_iris(return_X_y=True, as_frame=True)\n",
    "\n",
    "# Trains decision tree\n",
    "clf = DecisionTreeClassifier()\n",
    "clf.fit(X,y)\n",
    "\n",
    "# Translates the classifier into an explainable logic program\n",
    "crys_tree = CrystalTree(clf)\n",
    "\n",
    "\n",
    "translator = Translator(to_lang='DE')\n",
    "for e in crys_tree.explain(X.iloc[[0, 54]]):\n",
    "    node_iterator = e.preorder_iterator()\n",
    "    next(node_iterator)  # Skips root node (it has no labels)\n",
    "    for node, index in node_iterator:  \n",
    "        for i in range(len(node.labels)):\n",
    "            node.labels[i] = translator.translate(node.labels[i])\n",
    "    print(e.ascii_tree())"
   ]
  },
  {
   "cell_type": "markdown",
   "metadata": {},
   "source": [
    "#### Custom text labels\n",
    "Another approach to personalize explanations is to directly create the labels that will be used. It just allow to define new predefined text labels, but when obtaining large explanations, this will be much more computationally efficient than traversing all the produced explanation trees.\n",
    "The example below demonstrate how to define new text labels for each target class."
   ]
  },
  {
   "cell_type": "code",
   "execution_count": null,
   "metadata": {},
   "outputs": [],
   "source": [
    "def setup_labels(tree: CrystalTree):\n",
    "    \"\"\"Just setups some traces\"\"\"\n",
    "    tree.add_trace(Trace(\"Predicted iris-virginica\", \"prediction\", target_class=0))\n",
    "    tree.add_trace(Trace(\"Predicted iris-versicolor\", \"prediction\", target_class=1))\n",
    "    tree.add_trace(Trace(\"Predicted iris-setosa\", \"prediction\", target_class=2))\n",
    "\n",
    "# Loads dataset\n",
    "X, y = load_iris(return_X_y=True, as_frame=True)\n",
    "\n",
    "# Trains decision tree\n",
    "clf = DecisionTreeClassifier()\n",
    "clf.fit(X,y)\n",
    "\n",
    "# Translates the classifier into an explainable logic program\n",
    "crys_tree = CrystalTree(clf)\n",
    "\n",
    "# Apply the labels used by the tree\n",
    "setup_labels(crys_tree)\n",
    "\n",
    "# Print explanations of input X (first two rows)\n",
    "for e in crys_tree.explain(X.iloc[[0, 54]]):\n",
    "    print(e.ascii_tree())"
   ]
  }
 ],
 "metadata": {
  "kernelspec": {
   "display_name": "Python 3.10.4 ('crystal-tree-dev')",
   "language": "python",
   "name": "python3"
  },
  "language_info": {
   "codemirror_mode": {
    "name": "ipython",
    "version": 3
   },
   "file_extension": ".py",
   "mimetype": "text/x-python",
   "name": "python",
   "nbconvert_exporter": "python",
   "pygments_lexer": "ipython3",
   "version": "3.10.4"
  },
  "orig_nbformat": 4,
  "vscode": {
   "interpreter": {
    "hash": "d61001050c195ab5a9d0a8f9b9fae5851f6713a83a9e942574cccc4790035ab0"
   }
  }
 },
 "nbformat": 4,
 "nbformat_minor": 2
}
